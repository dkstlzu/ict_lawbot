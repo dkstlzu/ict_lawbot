{
 "cells": [
  {
   "cell_type": "code",
   "execution_count": 155,
   "metadata": {},
   "outputs": [],
   "source": [
    "import requests as rq\n",
    "from bs4 import BeautifulSoup as bs"
   ]
  },
  {
   "cell_type": "markdown",
   "metadata": {},
   "source": [
    "### 1. 판례 목록 가져오기\n",
    "> 입력 변수\n",
    "* OC\tstring(필수)\t사용자 이메일의 ID(g4c@korea.kr일경우 OC값=g4c)\n",
    "* target\tstring : prec(필수)\t서비스 대상\n",
    "* type\tchar(필수)\t출력 형태 : HTML / XML\n",
    "* search\tint\t검색범위 (기본 : 1 판례명) 2 : 본문검색\n",
    "* query\tstring\t검색범위에서 검색을 원하는 질의(검색 결과 리스트)\n",
    "* display\tint\t검색된 결과 개수 (default=20 max=100)\n",
    "* page\tint\t검색 결과 페이지 (default=1)\n",
    "* org\tstring\t법원종류 (대법원:400201, 하위법원:400202)\n",
    "* curt\tstring\t법원명 (대법원, 서울고등법원, 광주지법, 인천지방법원)\n",
    "* JO\tstring\t참조법령명(형법, 민법 등)\n",
    "* gana\tstring\t사전식 검색(ga,na,da…,etc)\n",
    "* sort\tstring\t정렬옵션\n",
    "* lasc : 사건명 오름차순\n",
    "* ldes : 사건명 내림차순\n",
    "* dasc : 선고일자 오름차순\n",
    "* ddes : 선고일자 내림차순(생략시 기본)\n",
    "* nasc : 법원명 오름차순\n",
    "* ndes : 법원명 내림차순\n",
    "* date\tint\t판례 선고일자\n",
    "* prncYd\tstring\t선고일자 검색(20090101~20090130)\n",
    "* nb\tint\t판례 사건번호\n",
    "* popYn\tstring\t상세화면 팝업창 여부(팝업창으로 띄우고 싶을 때만 'popYn=Y')\n",
    "> ##### (필수) 제외하면 안들어가도 되는 변수임\n",
    "</br>"
   ]
  },
  {
   "cell_type": "markdown",
   "metadata": {},
   "source": [
    "* #### 목록 parameter 딕셔너리\n",
    "\n",
    "\n",
    "> query가 keyword에 해당하는데, input 함수로 키워드를 입력받음\n",
    "<br/> 여기선 키워드로 손해배상 입력, 보여줄 판례의 수는 10개, 법원은 대법원, 기간은 20100101~20191231로 설정함\n",
    "<br/> type은 url 타고 웹에서 볼거면 html로 하는게 낫고, 주피터노트북으로 text 확인할거면 xml이 나음"
   ]
  },
  {
   "cell_type": "code",
   "execution_count": 259,
   "metadata": {},
   "outputs": [
    {
     "name": "stdout",
     "output_type": "stream",
     "text": [
      "손해배상\n"
     ]
    }
   ],
   "source": [
    "chart= {'OC':'ICTPoolC'\n",
    "        ,'target':'prec'\n",
    "        ,'type':'HTML'\n",
    "        ,'query':input()\n",
    "        ,'display':10\n",
    "        ,'curt':'대법원'\n",
    "        ,'prncYd':'20100101~20191231'\n",
    "       }"
   ]
  },
  {
   "cell_type": "markdown",
   "metadata": {},
   "source": [
    "* #### request 모듈을 이용하여 chart의 변수들을 전송함"
   ]
  },
  {
   "cell_type": "code",
   "execution_count": 260,
   "metadata": {},
   "outputs": [],
   "source": [
    "res_chart=rq.get('http://www.law.go.kr/DRF/lawSearch.do?'\n",
    "            ,params=chart)"
   ]
  },
  {
   "cell_type": "markdown",
   "metadata": {},
   "source": [
    "* #### url 가져오기"
   ]
  },
  {
   "cell_type": "code",
   "execution_count": 261,
   "metadata": {
    "scrolled": true
   },
   "outputs": [
    {
     "name": "stdout",
     "output_type": "stream",
     "text": [
      "http://www.law.go.kr/DRF/lawSearch.do?OC=ICTPoolC&target=prec&type=HTML&query=%EC%86%90%ED%95%B4%EB%B0%B0%EC%83%81&display=10&curt=%EB%8C%80%EB%B2%95%EC%9B%90&prncYd=20100101~20191231\n"
     ]
    }
   ],
   "source": [
    "print(res_chart.url)"
   ]
  },
  {
   "cell_type": "markdown",
   "metadata": {},
   "source": [
    "* #### text 가져오기\n",
    "> 아래에서 볼 수 있듯이 html 타입으로 text 읽어오는건 무의미한듯.."
   ]
  },
  {
   "cell_type": "code",
   "execution_count": 263,
   "metadata": {},
   "outputs": [
    {
     "data": {
      "text/plain": [
       "'\\r\\n\\r\\n\\r\\n\\r\\n\\r\\n\\r\\n\\r\\n\\r\\n\\r\\n\\r\\n\\r\\n\\r\\n\\r\\n\\r\\n\\r\\n\\r\\n\\r\\n\\r\\n\\r\\n\\r\\n\\r\\n\\r\\n\\r\\n\\r\\n\\r\\n<!DOCTYPE html PUBLIC \"-//W3C//DTD XHTML 1.0 Transitional//EN\" \"http://www.w3.org/TR/xhtml1/DTD/xhtml1-transitional.dtd\">\\r\\n<html xmlns=\"http://www.w3.org/1999/xhtml\"  xml:lang=\"ko\" lang=\"ko\">\\r\\n<head>\\r\\n\\r\\n\\r\\n\\r\\n<meta http-equiv=\"X-UA-Compatible\" content=\"IE=edge\"/>\\r\\n<meta http-equiv=\"Content-Type\" content=\"text/html; charset=UTF-8\" />\\r\\n<meta name=\"robots\" content=\"noindex, nofollow\" />\\r\\n\\r\\n<link rel=\"stylesheet\" type=\"text/css\" href=\"/DRF/js/ext/resources/css/ext-all.css\" />\\r\\n<link rel=\"stylesheet\" type=\"text/css\" href=\"/DRF/css/common.css\" />\\r\\n<link rel=\"stylesheet\" type=\"text/css\" href=\"/DRF/css/emp.css\" />\\r\\n<script type=\"text/javascript\" src=\"/DRF/js/common/jquery/jquery.js\"></script>\\r\\n<script type=\"text/javascript\" src=\"/DRF/js/common/jquery/jquery.form.js\"></script>\\r\\n<script type=\"text/javascript\" src=\"/DRF/js/ext/adapter/ext/ext-base.js\"></script>\\r\\n<script type=\"text/javascript\" src=\"/DRF/js/ext/ext-all.js\"></script>\\r\\n<script type=\"text/javascript\" src=\"/DRF/js/common.js\"></script>\\r\\n<script type=\"text/javascript\" src=\"/DRF/js/common-ex.js\"></script>\\r\\n<script type=\"text/javascript\" src=\"/DRF/js/CookieUtil.js\"></script>\\r\\n<title>국가법령통합관리시스템</title>\\r\\n\\r\\n<script type=\"text/javascript\" src=\"/DRF/js/couse.js\"></script>\\r\\n<script type=\"text/javascript\">\\r\\n\\tvar searchObj = new SearchObj();\\r\\n\\t\\r\\n\\t$(document).ready(function(){\\r\\n\\t\\t$(\"tr\").hover(\\r\\n\\t\\t\\tfunction(){\\r\\n\\t\\t\\t\\t$(this).css(\"backgroundColor\", \"#f2f2f2\");\\r\\n\\t\\t\\t\\t$(this).find(\\'div\\').css(\"color\", \"#f2f2f2\");\\r\\n\\t\\t\\t},\\r\\n\\t\\t\\tfunction(){\\r\\n\\t\\t\\t\\t$(this).css(\"backgroundColor\", \"#ffffff\");\\r\\n\\t\\t\\t\\t$(this).find(\\'div\\').css(\"color\", \"#ffffff\");\\r\\n\\t\\t\\t}\\r\\n\\t\\t);\\r\\n\\t\\r\\n\\t\\t$(\"tr\").keyup(\\r\\n\\t\\t\\tfunction(){\\r\\n\\t\\t\\t\\t$(this).css(\"backgroundColor\", \"#f2f2f2\");\\r\\n\\t\\t\\t\\t$(this).find(\\'div\\').css(\"color\", \"#f2f2f2\");\\r\\n\\t\\t\\t}\\r\\n\\t\\t);\\r\\n\\t\\t\\r\\n\\t\\t$(\"tr\").keydown(\\r\\n\\t\\t\\tfunction(){\\r\\n\\t\\t\\t\\t$(this).css(\"backgroundColor\", \"#ffffff\");\\r\\n\\t\\t\\t\\t$(this).find(\\'div\\').css(\"color\", \"#ffffff\");\\r\\n\\t\\t\\t}\\r\\n\\t\\t);\\r\\n\\t\\t\\r\\n\\t});\\r\\n\\r\\n\\t/* var searchObj = new SearchObj(); */\\r\\n\\r\\n\\tfunction movePage(pg){\\t\\t  \\r\\n\\t\\tsearchObj.param.page = pg;\\r\\n\\t\\tlsSearch();\\r\\n\\t}\\r\\n\\t\\r\\n\\t/* 검색처리   */\\r\\n\\tfunction lsSearch(){\\t\\t\\t\\t\\t\\t\\t\\r\\n\\t\\tvar mode = \"list\";\\r\\n\\t\\t// 검색 param 초기화\\r\\n\\t\\tsearchObj.param.query = el(\"query\").value;\\t\\t\\r\\n\\t\\tsearchObj.param.target = el(\"target\").value;\\t\\t\\r\\n\\t\\tsearchObj.param.OC = el(\"OC\").value;\\t\\t\\r\\n\\t\\tsearchObj.param.search = el(\"search\").value;\\t\\t\\r\\n\\t\\tsearchObj.param.display = el(\"display\").value;\\t\\t\\r\\n\\t\\tsearchObj.param.sort = el(\"sort\").value;\\t\\t\\r\\n\\t\\tsearchObj.param.date = el(\"date\").value;\\t\\t\\r\\n\\t\\tsearchObj.param.nb = el(\"nb\").value;\\t\\t\\r\\n\\t\\tsearchObj.param.refAdr = el(\"refAdr\").value;\\r\\n\\t\\tsearchObj.param.org = el(\"org\").value;\\t\\t\\r\\n\\t\\tsearchObj.param.knd = el(\"knd\").value;\\t\\t\\r\\n\\t\\tsearchObj.param.nw = el(\"nw\").value;\\t\\t\\r\\n\\t\\tsearchObj.param.gana = el(\"gana\").value;\\t\\t\\r\\n\\t\\tsearchObj.param.type = \"HTML\";\\t\\t\\r\\n\\t\\tsearchObj.param.prncYd = el(\"prncYd\").value;\\r\\n\\t\\tsearchObj.param.popYn = el(\"popYn\").value;\\r\\n\\t\\tfLsUpdate(\"/DRF/lawSearch.do\", makeParam(searchObj.param));\\r\\n\\t}\\r\\n\\t\\r\\n\\tfunction fLsUpdate(urlName,parameter){\\r\\n\\t\\tlocation.href = \"/DRF/lawSearch.do?\"+parameter+\"&curt=\"+el(\"curt\").value+\"&JO=\"+el(\"JO\").value;\\r\\n\\t}\\r\\n\\r\\n\\tfunction openPop(thisUrl){\\r\\n\\t\\tvar popUrl = thisUrl;\\r\\n\\t\\tvar contentPop = window.open(\\'\\',\\'\\', \\'scrollbars=no,toolbar=no,resizable=yes,status=no,menubar=no\\');\\r\\n\\t\\tcontentPop.location.href = popUrl;\\r\\n\\r\\n\\t}\\r\\n\\t\\t\\r\\n\\tfunction openPopRow(popOrNot, thisUrl){\\r\\n\\t\\tvar popUrl = thisUrl;\\r\\n\\t\\talert(popOrNot + \", \" + thisUrl);\\r\\n\\t\\tif(popOrNot == \\'Y\\' ){\\r\\n\\t\\t\\tvar contentPop = window.open(\\'\\',\\'\\', \\'scrollbars=no,toolbar=no,resizable=yes,status=no,menubar=no\\');\\r\\n\\t\\t\\tcontentPop.location.href = popUrl;\\r\\n\\t\\t} else {\\r\\n\\t\\t\\tlocation.href = popUrl;\\r\\n\\t\\t}\\r\\n\\r\\n\\t}\\t\\r\\n\\r\\n</script>\\r\\n</head>\\r\\n\\r\\n\\r\\n<!-- head //-->\\r\\n<body>\\r\\n\\r\\n<form>\\r\\n<div class=\"conwrap1\">\\r\\n\\t<!-- number -->\\r\\n\\t<div class=\"lelitop\">\\r\\n\\t\\t<div class=\"num\">총<strong>874</strong>건</div>\\r\\n\\t</div> \\r\\n\\t<!-- number //-->\\r\\n\\t<!-- list -->\\r\\n\\t<table cellpadding=\"0\" cellspacing=\"0\" class=\"tbl1 tbd1\" summary=\"순번, 제목, 법원, 사건유형, 판결유형, 선고일자 구성됨\">\\t\\r\\n\\t\\t\\t<colgroup><col width=\"8%\" /><col width=\"56%\" /><col width=\"8%\" /><col width=\"10%\" /><col width=\"10%\" /><col width=\"8%\" /></colgroup>\\r\\n\\t\\t\\t\\t<caption>판례와 해석례 목록</caption>\\r\\n\\t\\t\\t\\t<thead>\\r\\n\\t\\t\\t\\t\\t<tr>\\r\\n\\t\\t\\t\\t\\t\\t<th scope=\"col\">순번</th>\\r\\n\\t\\t\\t\\t\\t\\t<th scope=\"col\">제목</th>\\r\\n\\t\\t\\t\\t\\t\\t<th scope=\"col\">법원</th>\\t\\t\\t\\t\\r\\n\\t\\t\\t\\t\\t\\t<th scope=\"col\">사건유형</th>\\t\\r\\n\\t\\t\\t\\t\\t\\t<th scope=\"col\">판결유형</th>\\r\\n\\t\\t\\t\\t\\t\\t<th class=\"bano\" scope=\"col\">선고일자</th>\\r\\n\\t\\t\\t\\t\\t</tr>\\r\\n\\t\\t\\t\\t</thead>\\r\\n\\t\\t\\t\\t\\t\\t\\r\\n\\t\\t\\t\\t<tbody>\\r\\n\\t\\t\\t\\t\\t\\r\\n\\t\\t\\t\\t\\t\\t\\r\\n\\t\\t\\t\\t\\t<tr  >\\r\\n\\t\\t\\t\\t\\t\\t<td class=\"ce\">1</td>\\r\\n\\t\\t\\t\\t\\t\\t<td>\\r\\n\\t\\t\\t\\t\\t\\t\\t<a href=\"/DRF/lawService.do?OC=ICTPoolC&amp;target=prec&amp;ID=210569&amp;type=HTML&amp;mobileYn=\"   >\\r\\n\\t\\t\\t\\t\\t\\t\\t\\t\\r\\n\\t\\t\\t\\t\\t\\t\\t\\t<strong class=\"tbl_tx_type\"><strong class=\"tbl_tx_type\">손해</strong><strong class=\"tbl_tx_type\">배상</strong></strong>(기)\\r\\n\\t\\t\\t\\t\\t\\t\\t</a>\\r\\n\\t\\t\\t\\t\\t\\t</td>\\r\\n\\t\\t\\t\\t\\t\\t<td class=\"ce\">대법원</td>\\r\\n\\t\\t\\t\\t\\t\\t<td class=\"ce\">민사</td>\\r\\n\\t\\t\\t\\t\\t\\t<td class=\"ce\">판결</td>\\r\\n\\t\\t\\t\\t\\t\\t<td class=\"ce\">2019.11.14.</td>\\r\\n\\t\\t\\t\\t\\t</tr>\\r\\n\\t\\t\\t\\t\\t\\r\\n\\t\\t\\t\\t\\t\\t\\r\\n\\t\\t\\t\\t\\t<tr  class=\"gr\"   >\\r\\n\\t\\t\\t\\t\\t\\t<td class=\"ce\">2</td>\\r\\n\\t\\t\\t\\t\\t\\t<td>\\r\\n\\t\\t\\t\\t\\t\\t\\t<a href=\"/DRF/lawService.do?OC=ICTPoolC&amp;target=prec&amp;ID=210415&amp;type=HTML&amp;mobileYn=\"   >\\r\\n\\t\\t\\t\\t\\t\\t\\t\\t\\r\\n\\t\\t\\t\\t\\t\\t\\t\\t<strong class=\"tbl_tx_type\"><strong class=\"tbl_tx_type\">손해</strong><strong class=\"tbl_tx_type\">배상</strong></strong>(기)\\r\\n\\t\\t\\t\\t\\t\\t\\t</a>\\r\\n\\t\\t\\t\\t\\t\\t</td>\\r\\n\\t\\t\\t\\t\\t\\t<td class=\"ce\">대법원</td>\\r\\n\\t\\t\\t\\t\\t\\t<td class=\"ce\">민사</td>\\r\\n\\t\\t\\t\\t\\t\\t<td class=\"ce\">판결</td>\\r\\n\\t\\t\\t\\t\\t\\t<td class=\"ce\">2019.10.31.</td>\\r\\n\\t\\t\\t\\t\\t</tr>\\r\\n\\t\\t\\t\\t\\t\\r\\n\\t\\t\\t\\t\\t\\t\\r\\n\\t\\t\\t\\t\\t<tr  >\\r\\n\\t\\t\\t\\t\\t\\t<td class=\"ce\">3</td>\\r\\n\\t\\t\\t\\t\\t\\t<td>\\r\\n\\t\\t\\t\\t\\t\\t\\t<a href=\"/DRF/lawService.do?OC=ICTPoolC&amp;target=prec&amp;ID=210423&amp;type=HTML&amp;mobileYn=\"   >\\r\\n\\t\\t\\t\\t\\t\\t\\t\\t\\r\\n\\t\\t\\t\\t\\t\\t\\t\\t<strong class=\"tbl_tx_type\"><strong class=\"tbl_tx_type\">손해</strong><strong class=\"tbl_tx_type\">배상</strong></strong>(기)\\r\\n\\t\\t\\t\\t\\t\\t\\t</a>\\r\\n\\t\\t\\t\\t\\t\\t</td>\\r\\n\\t\\t\\t\\t\\t\\t<td class=\"ce\">대법원</td>\\r\\n\\t\\t\\t\\t\\t\\t<td class=\"ce\">민사</td>\\r\\n\\t\\t\\t\\t\\t\\t<td class=\"ce\">판결</td>\\r\\n\\t\\t\\t\\t\\t\\t<td class=\"ce\">2019.10.31.</td>\\r\\n\\t\\t\\t\\t\\t</tr>\\r\\n\\t\\t\\t\\t\\t\\r\\n\\t\\t\\t\\t\\t\\t\\r\\n\\t\\t\\t\\t\\t<tr  class=\"gr\"   >\\r\\n\\t\\t\\t\\t\\t\\t<td class=\"ce\">4</td>\\r\\n\\t\\t\\t\\t\\t\\t<td>\\r\\n\\t\\t\\t\\t\\t\\t\\t<a href=\"/DRF/lawService.do?OC=ICTPoolC&amp;target=prec&amp;ID=210419&amp;type=HTML&amp;mobileYn=\"   >\\r\\n\\t\\t\\t\\t\\t\\t\\t\\t\\r\\n\\t\\t\\t\\t\\t\\t\\t\\t<strong class=\"tbl_tx_type\"><strong class=\"tbl_tx_type\">손해</strong><strong class=\"tbl_tx_type\">배상</strong></strong>(기)\\r\\n\\t\\t\\t\\t\\t\\t\\t</a>\\r\\n\\t\\t\\t\\t\\t\\t</td>\\r\\n\\t\\t\\t\\t\\t\\t<td class=\"ce\">대법원</td>\\r\\n\\t\\t\\t\\t\\t\\t<td class=\"ce\">민사</td>\\r\\n\\t\\t\\t\\t\\t\\t<td class=\"ce\">판결</td>\\r\\n\\t\\t\\t\\t\\t\\t<td class=\"ce\">2019.10.31.</td>\\r\\n\\t\\t\\t\\t\\t</tr>\\r\\n\\t\\t\\t\\t\\t\\r\\n\\t\\t\\t\\t\\t\\t\\r\\n\\t\\t\\t\\t\\t<tr  >\\r\\n\\t\\t\\t\\t\\t\\t<td class=\"ce\">5</td>\\r\\n\\t\\t\\t\\t\\t\\t<td>\\r\\n\\t\\t\\t\\t\\t\\t\\t<a href=\"/DRF/lawService.do?OC=ICTPoolC&amp;target=prec&amp;ID=209687&amp;type=HTML&amp;mobileYn=\"   >\\r\\n\\t\\t\\t\\t\\t\\t\\t\\t\\r\\n\\t\\t\\t\\t\\t\\t\\t\\t<strong class=\"tbl_tx_type\"><strong class=\"tbl_tx_type\">손해</strong><strong class=\"tbl_tx_type\">배상</strong></strong>(기)·<strong class=\"tbl_tx_type\"><strong class=\"tbl_tx_type\">손해</strong><strong class=\"tbl_tx_type\">배상</strong></strong>(기)·<strong class=\"tbl_tx_type\"><strong class=\"tbl_tx_type\">손해</strong><strong class=\"tbl_tx_type\">배상</strong></strong>(기)\\r\\n\\t\\t\\t\\t\\t\\t\\t</a>\\r\\n\\t\\t\\t\\t\\t\\t</td>\\r\\n\\t\\t\\t\\t\\t\\t<td class=\"ce\">대법원</td>\\r\\n\\t\\t\\t\\t\\t\\t<td class=\"ce\">민사</td>\\r\\n\\t\\t\\t\\t\\t\\t<td class=\"ce\">판결</td>\\r\\n\\t\\t\\t\\t\\t\\t<td class=\"ce\">2019.09.26.</td>\\r\\n\\t\\t\\t\\t\\t</tr>\\r\\n\\t\\t\\t\\t\\t\\r\\n\\t\\t\\t\\t\\t\\t\\r\\n\\t\\t\\t\\t\\t<tr  class=\"gr\"   >\\r\\n\\t\\t\\t\\t\\t\\t<td class=\"ce\">6</td>\\r\\n\\t\\t\\t\\t\\t\\t<td>\\r\\n\\t\\t\\t\\t\\t\\t\\t<a href=\"/DRF/lawService.do?OC=ICTPoolC&amp;target=prec&amp;ID=209693&amp;type=HTML&amp;mobileYn=\"   >\\r\\n\\t\\t\\t\\t\\t\\t\\t\\t\\r\\n\\t\\t\\t\\t\\t\\t\\t\\t<strong class=\"tbl_tx_type\"><strong class=\"tbl_tx_type\">손해</strong><strong class=\"tbl_tx_type\">배상</strong></strong>(자)(교통사고 피해자의 유족들이 가해자와 보험사를 상대로 <strong class=\"tbl_tx_type\"><strong class=\"tbl_tx_type\">손해</strong><strong class=\"tbl_tx_type\">배상</strong></strong>을 구하는 사건)\\r\\n\\t\\t\\t\\t\\t\\t\\t</a>\\r\\n\\t\\t\\t\\t\\t\\t</td>\\r\\n\\t\\t\\t\\t\\t\\t<td class=\"ce\">대법원</td>\\r\\n\\t\\t\\t\\t\\t\\t<td class=\"ce\">민사</td>\\r\\n\\t\\t\\t\\t\\t\\t<td class=\"ce\">판결</td>\\r\\n\\t\\t\\t\\t\\t\\t<td class=\"ce\">2019.09.26.</td>\\r\\n\\t\\t\\t\\t\\t</tr>\\r\\n\\t\\t\\t\\t\\t\\r\\n\\t\\t\\t\\t\\t\\t\\r\\n\\t\\t\\t\\t\\t<tr  >\\r\\n\\t\\t\\t\\t\\t\\t<td class=\"ce\">7</td>\\r\\n\\t\\t\\t\\t\\t\\t<td>\\r\\n\\t\\t\\t\\t\\t\\t\\t<a href=\"/DRF/lawService.do?OC=ICTPoolC&amp;target=prec&amp;ID=209587&amp;type=HTML&amp;mobileYn=\"   >\\r\\n\\t\\t\\t\\t\\t\\t\\t\\t\\r\\n\\t\\t\\t\\t\\t\\t\\t\\t영업비밀침해금지및<strong class=\"tbl_tx_type\"><strong class=\"tbl_tx_type\">손해</strong><strong class=\"tbl_tx_type\">배상</strong></strong>등\\r\\n\\t\\t\\t\\t\\t\\t\\t</a>\\r\\n\\t\\t\\t\\t\\t\\t</td>\\r\\n\\t\\t\\t\\t\\t\\t<td class=\"ce\">대법원</td>\\r\\n\\t\\t\\t\\t\\t\\t<td class=\"ce\">민사</td>\\r\\n\\t\\t\\t\\t\\t\\t<td class=\"ce\">판결</td>\\r\\n\\t\\t\\t\\t\\t\\t<td class=\"ce\">2019.09.10.</td>\\r\\n\\t\\t\\t\\t\\t</tr>\\r\\n\\t\\t\\t\\t\\t\\r\\n\\t\\t\\t\\t\\t\\t\\r\\n\\t\\t\\t\\t\\t<tr  class=\"gr\"   >\\r\\n\\t\\t\\t\\t\\t\\t<td class=\"ce\">8</td>\\r\\n\\t\\t\\t\\t\\t\\t<td>\\r\\n\\t\\t\\t\\t\\t\\t\\t<a href=\"/DRF/lawService.do?OC=ICTPoolC&amp;target=prec&amp;ID=209131&amp;type=HTML&amp;mobileYn=\"   >\\r\\n\\t\\t\\t\\t\\t\\t\\t\\t\\r\\n\\t\\t\\t\\t\\t\\t\\t\\t<strong class=\"tbl_tx_type\"><strong class=\"tbl_tx_type\">손해</strong><strong class=\"tbl_tx_type\">배상</strong></strong>\\r\\n\\t\\t\\t\\t\\t\\t\\t</a>\\r\\n\\t\\t\\t\\t\\t\\t</td>\\r\\n\\t\\t\\t\\t\\t\\t<td class=\"ce\">대법원</td>\\r\\n\\t\\t\\t\\t\\t\\t<td class=\"ce\">민사</td>\\r\\n\\t\\t\\t\\t\\t\\t<td class=\"ce\">판결</td>\\r\\n\\t\\t\\t\\t\\t\\t<td class=\"ce\">2019.08.14.</td>\\r\\n\\t\\t\\t\\t\\t</tr>\\r\\n\\t\\t\\t\\t\\t\\r\\n\\t\\t\\t\\t\\t\\t\\r\\n\\t\\t\\t\\t\\t<tr  >\\r\\n\\t\\t\\t\\t\\t\\t<td class=\"ce\">9</td>\\r\\n\\t\\t\\t\\t\\t\\t<td>\\r\\n\\t\\t\\t\\t\\t\\t\\t<a href=\"/DRF/lawService.do?OC=ICTPoolC&amp;target=prec&amp;ID=208800&amp;type=HTML&amp;mobileYn=\"   >\\r\\n\\t\\t\\t\\t\\t\\t\\t\\t\\r\\n\\t\\t\\t\\t\\t\\t\\t\\t<strong class=\"tbl_tx_type\"><strong class=\"tbl_tx_type\">손해</strong><strong class=\"tbl_tx_type\">배상</strong></strong>(기)\\r\\n\\t\\t\\t\\t\\t\\t\\t</a>\\r\\n\\t\\t\\t\\t\\t\\t</td>\\r\\n\\t\\t\\t\\t\\t\\t<td class=\"ce\">대법원</td>\\r\\n\\t\\t\\t\\t\\t\\t<td class=\"ce\">민사</td>\\r\\n\\t\\t\\t\\t\\t\\t<td class=\"ce\">판결</td>\\r\\n\\t\\t\\t\\t\\t\\t<td class=\"ce\">2019.07.25.</td>\\r\\n\\t\\t\\t\\t\\t</tr>\\r\\n\\t\\t\\t\\t\\t\\r\\n\\t\\t\\t\\t\\t\\t\\r\\n\\t\\t\\t\\t\\t<tr  class=\"gr\"   >\\r\\n\\t\\t\\t\\t\\t\\t<td class=\"ce\">10</td>\\r\\n\\t\\t\\t\\t\\t\\t<td>\\r\\n\\t\\t\\t\\t\\t\\t\\t<a href=\"/DRF/lawService.do?OC=ICTPoolC&amp;target=prec&amp;ID=208795&amp;type=HTML&amp;mobileYn=\"   >\\r\\n\\t\\t\\t\\t\\t\\t\\t\\t\\r\\n\\t\\t\\t\\t\\t\\t\\t\\t<strong class=\"tbl_tx_type\"><strong class=\"tbl_tx_type\">손해</strong><strong class=\"tbl_tx_type\">배상</strong></strong>(자)(교통사고로 발생한 장애로 인한 <strong class=\"tbl_tx_type\"><strong class=\"tbl_tx_type\">손해</strong><strong class=\"tbl_tx_type\">배상</strong></strong>청구권의 소멸시효의 기산일)\\r\\n\\t\\t\\t\\t\\t\\t\\t</a>\\r\\n\\t\\t\\t\\t\\t\\t</td>\\r\\n\\t\\t\\t\\t\\t\\t<td class=\"ce\">대법원</td>\\r\\n\\t\\t\\t\\t\\t\\t<td class=\"ce\">민사</td>\\r\\n\\t\\t\\t\\t\\t\\t<td class=\"ce\">판결</td>\\r\\n\\t\\t\\t\\t\\t\\t<td class=\"ce\">2019.07.25.</td>\\r\\n\\t\\t\\t\\t\\t</tr>\\r\\n\\t\\t\\t\\t\\t\\t\\t\\t\\t\\r\\n\\t\\t\\t\\t</tbody>\\r\\n\\t\\t\\t\\r\\n\\t</table>\\r\\n\\t<input type=\"hidden\" id=\"query\" value=\\'손해배상\\' />\\r\\n\\t<input type=\"hidden\" id=\"target\" value=\"prec\" />\\r\\n\\t<input type=\"hidden\" id=\"OC\" value=\"ICTPoolC\" />\\r\\n\\t<input type=\"hidden\" id=\"search\" value=\"1\" />\\r\\n\\t<input type=\"hidden\" id=\"display\" value=\"10\" />\\r\\n\\t<input type=\"hidden\" id=\"sort\" value=\"\" />\\r\\n\\t<input type=\"hidden\" id=\"date\" value=\"\" />\\r\\n\\t<input type=\"hidden\" id=\"nb\" value=\"\" />\\r\\n\\t<input type=\"hidden\" id=\"refAdr\" value=\"\" />\\r\\n\\t<input type=\"hidden\" id=\"org\" value=\"\" />\\r\\n\\t<input type=\"hidden\" id=\"knd\" value=\"\" />\\r\\n\\t<input type=\"hidden\" id=\"nw\" value=\"3\" />\\r\\n\\t<input type=\"hidden\" id=\"gana\" value=\"\" />\\r\\n\\t<input type=\"hidden\" id=\"curt\" value=\"대법원\" />\\r\\n\\t<input type=\"hidden\" id=\"JO\" value=\"\" />\\r\\n\\t<input type=\"hidden\" id=\"prncYd\" value=\"20100101~20191231\" />\\r\\n\\t<input type=\"hidden\" id=\"popYn\" value=\"N\" />\\t\\r\\n\\t<!-- list //-->\\r\\n\\t<!-- paging -->\\r\\n\\t<div class=\"paging mar5\">\\r\\n\\t<!-- paging -->\\r\\n<div class=\"paging\">\\r\\n\\r\\n\\t\\r\\n\\t\\t\\r\\n\\t \\t\\r\\n\\t\\t\\r\\n\\t \\t\\t\\r\\n\\t \\t\\t\\r\\n\\t \\t\\t\\t<img src=\"/DRF/images/button/page_first.gif\" alt=\"처음으로\" />\\r\\n\\t \\t\\t\\t<img src=\"/DRF/images/button/page_prev.gif\" alt=\"이전으로\" />\\r\\n\\t \\t\\t\\r\\n\\t \\t\\r\\n\\t\\t<ol start=\"1\">\\r\\n\\t\\t\\t\\r\\n\\t \\t\\t\\t\\r\\n\\t \\t\\t\\t\\t\\r\\n\\t \\t\\t\\t\\t\\t<li class=\"on\">1</li>\\r\\n\\t \\t\\t\\t\\t\\r\\n\\t \\t\\t\\t\\t\\r\\n\\t \\t\\t\\t\\r\\n\\t \\t\\t\\r\\n\\t \\t\\t\\t\\r\\n\\t \\t\\t\\t\\t\\r\\n\\t \\t\\t\\t\\t\\r\\n\\t \\t\\t\\t\\t\\t<li><a href=\"#\" onclick=\"javascript:movePage(\\'2\\')\">2</a></li>\\r\\n\\t \\t\\t\\t\\t\\r\\n\\t \\t\\t\\t\\r\\n\\t \\t\\t\\r\\n\\t \\t\\t\\t\\r\\n\\t \\t\\t\\t\\t\\r\\n\\t \\t\\t\\t\\t\\r\\n\\t \\t\\t\\t\\t\\t<li><a href=\"#\" onclick=\"javascript:movePage(\\'3\\')\">3</a></li>\\r\\n\\t \\t\\t\\t\\t\\r\\n\\t \\t\\t\\t\\r\\n\\t \\t\\t\\r\\n\\t \\t\\t\\t\\r\\n\\t \\t\\t\\t\\t\\r\\n\\t \\t\\t\\t\\t\\r\\n\\t \\t\\t\\t\\t\\t<li><a href=\"#\" onclick=\"javascript:movePage(\\'4\\')\">4</a></li>\\r\\n\\t \\t\\t\\t\\t\\r\\n\\t \\t\\t\\t\\r\\n\\t \\t\\t\\r\\n\\t \\t\\t\\t\\r\\n\\t \\t\\t\\t\\t\\r\\n\\t \\t\\t\\t\\t\\r\\n\\t \\t\\t\\t\\t\\t<li><a href=\"#\" onclick=\"javascript:movePage(\\'5\\')\">5</a></li>\\r\\n\\t \\t\\t\\t\\t\\r\\n\\t \\t\\t\\t\\r\\n\\t \\t\\t\\r\\n\\t \\t\\t\\t\\r\\n\\t \\t\\t\\t\\t\\r\\n\\t \\t\\t\\t\\t\\r\\n\\t \\t\\t\\t\\t\\t<li><a href=\"#\" onclick=\"javascript:movePage(\\'6\\')\">6</a></li>\\r\\n\\t \\t\\t\\t\\t\\r\\n\\t \\t\\t\\t\\r\\n\\t \\t\\t\\r\\n\\t \\t\\t\\t\\r\\n\\t \\t\\t\\t\\t\\r\\n\\t \\t\\t\\t\\t\\r\\n\\t \\t\\t\\t\\t\\t<li><a href=\"#\" onclick=\"javascript:movePage(\\'7\\')\">7</a></li>\\r\\n\\t \\t\\t\\t\\t\\r\\n\\t \\t\\t\\t\\r\\n\\t \\t\\t\\r\\n\\t \\t\\t\\t\\r\\n\\t \\t\\t\\t\\t\\r\\n\\t \\t\\t\\t\\t\\r\\n\\t \\t\\t\\t\\t\\t<li><a href=\"#\" onclick=\"javascript:movePage(\\'8\\')\">8</a></li>\\r\\n\\t \\t\\t\\t\\t\\r\\n\\t \\t\\t\\t\\r\\n\\t \\t\\t\\r\\n\\t \\t\\t\\t\\r\\n\\t \\t\\t\\t\\t\\r\\n\\t \\t\\t\\t\\t\\r\\n\\t \\t\\t\\t\\t\\t<li><a href=\"#\" onclick=\"javascript:movePage(\\'9\\')\">9</a></li>\\r\\n\\t \\t\\t\\t\\t\\r\\n\\t \\t\\t\\t\\r\\n\\t \\t\\t\\r\\n\\t \\t\\t\\t\\r\\n\\t \\t\\t\\t\\t\\r\\n\\t \\t\\t\\t\\t\\r\\n\\t \\t\\t\\t\\t\\t<li><a href=\"#\" onclick=\"javascript:movePage(\\'10\\')\">10</a></li>\\r\\n\\t \\t\\t\\t\\t\\r\\n\\t \\t\\t\\t\\r\\n\\t \\t\\t\\r\\n\\t \\t</ol>\\r\\n\\t \\t\\r\\n\\t \\t\\t\\r\\n\\t \\t\\t\\t<a href=\"#\" onclick=\"javascript:movePage(\\'11\\')\"><img src=\"/DRF/images/button/page_next.gif\" alt=\"다음으로\" /></a>\\r\\n\\t \\t\\t\\t<a href=\"#\" onclick=\"javascript:movePage(\\'88\\')\"><img src=\"/DRF/images/button/page_last.gif\" alt=\"마지막으로\" /></a>\\r\\n\\t \\t\\t\\r\\n\\t \\t\\t\\r\\n\\t \\t\\r\\n\\t\\t\\t\\r\\n</div>\\r\\n<!-- paging //-->\\r\\n\\t</div>\\r\\n\\t<!-- paging //-->\\r\\n</div>\\r\\n</form>\\r\\n</body>\\r\\n</html>\\r\\n\\r\\n'"
      ]
     },
     "execution_count": 263,
     "metadata": {},
     "output_type": "execute_result"
    }
   ],
   "source": [
    "res_chart.text"
   ]
  },
  {
   "cell_type": "markdown",
   "metadata": {},
   "source": [
    "### 2. 판례 본문 가져오기\n",
    "> 입력 변수\n",
    "* OC\tstring(필수)\t사용자 이메일의 ID(g4c@korea.kr일경우 OC값=g4c)\n",
    "* target\tstring : prec(필수)\t서비스 대상\n",
    "* type\tchar(필수)\t출력 형태 : HTML / XML\n",
    "* ID\tchar(필수)\t판례 일련번호\n",
    "* LM\tstring\t판례명\n",
    "> ##### (필수) 제외하면 안들어가도 되는 변수임\n",
    "</br>"
   ]
  },
  {
   "cell_type": "markdown",
   "metadata": {},
   "source": [
    "* #### 본문 parameter 딕셔너리\n",
    "\n",
    "\n",
    "> ID가 판례일련번호에 해당하는데, input 함수로 판례일련번호를 입력받음"
   ]
  },
  {
   "cell_type": "code",
   "execution_count": 251,
   "metadata": {},
   "outputs": [
    {
     "name": "stdout",
     "output_type": "stream",
     "text": [
      "210565\n"
     ]
    }
   ],
   "source": [
    "main = {'OC':'ICTPoolC',\n",
    "           'target':'prec',\n",
    "           'ID': int(input()),\n",
    "          'type':'HTML'}"
   ]
  },
  {
   "cell_type": "markdown",
   "metadata": {},
   "source": [
    "* #### request 모듈을 이용하여 main의 변수들을 전송함"
   ]
  },
  {
   "cell_type": "code",
   "execution_count": 252,
   "metadata": {},
   "outputs": [],
   "source": [
    "res_main= rq.get('http://www.law.go.kr/DRF/lawService.do?'\n",
    "            ,params=main)"
   ]
  },
  {
   "cell_type": "markdown",
   "metadata": {},
   "source": [
    "* #### url 가져오기"
   ]
  },
  {
   "cell_type": "code",
   "execution_count": 253,
   "metadata": {},
   "outputs": [
    {
     "name": "stdout",
     "output_type": "stream",
     "text": [
      "http://www.law.go.kr/DRF/lawService.do?OC=ICTPoolC&target=prec&ID=210565&type=HTML\n"
     ]
    }
   ],
   "source": [
    "print(res_main.url)"
   ]
  }
 ],
 "metadata": {
  "kernelspec": {
   "display_name": "Python 3",
   "language": "python",
   "name": "python3"
  },
  "language_info": {
   "codemirror_mode": {
    "name": "ipython",
    "version": 3
   },
   "file_extension": ".py",
   "mimetype": "text/x-python",
   "name": "python",
   "nbconvert_exporter": "python",
   "pygments_lexer": "ipython3",
   "version": "3.7.6"
  }
 },
 "nbformat": 4,
 "nbformat_minor": 4
}
