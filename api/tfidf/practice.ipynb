{
 "cells": [
  {
   "cell_type": "code",
   "execution_count": 20,
   "metadata": {},
   "outputs": [],
   "source": [
    "from tfidf import top10 as top\n",
    "from tfidf import find_ids as ids\n",
    "import tfidf\n",
    "import os\n",
    "import numpy as np"
   ]
  },
  {
   "cell_type": "code",
   "execution_count": 13,
   "metadata": {},
   "outputs": [],
   "source": [
    "a = np.array([1,2,3,4])\n",
    "a = np.mat(a)\n",
    "b = np.array([[2,4,5,6],[1,2,3,4]])\n",
    "b = np.mat(b)"
   ]
  },
  {
   "cell_type": "code",
   "execution_count": 19,
   "metadata": {},
   "outputs": [
    {
     "data": {
      "text/plain": [
       "array([0.99401501, 1.        ])"
      ]
     },
     "execution_count": 19,
     "metadata": {},
     "output_type": "execute_result"
    }
   ],
   "source": [
    "tfidf.similarity(a, b, 'cos')"
   ]
  },
  {
   "cell_type": "code",
   "execution_count": 21,
   "metadata": {},
   "outputs": [],
   "source": [
    "def get_files(path):\n",
    "    file_list = os.listdir(path)\n",
    "    files = []\n",
    "    for file in file_list:\n",
    "        if 'total' in file:\n",
    "            file_list.remove(file)\n",
    "            continue\n",
    "        with open(path + '\\\\' + file, 'r') as data: \n",
    "            files.append(data.read())\n",
    "    return file_list, files"
   ]
  },
  {
   "cell_type": "code",
   "execution_count": 22,
   "metadata": {},
   "outputs": [
    {
     "name": "stdout",
     "output_type": "stream",
     "text": [
      "<class 'list'>\n"
     ]
    }
   ],
   "source": [
    "# case num 64440, 64890\n",
    "# path = os.path.join('cc', '64890.txt')\n",
    "# file = open(path, 'r')\n",
    "\n",
    "listd, file = get_files('sample')\n",
    "\n",
    "print(type(file))"
   ]
  },
  {
   "cell_type": "code",
   "execution_count": 23,
   "metadata": {},
   "outputs": [
    {
     "name": "stdout",
     "output_type": "stream",
     "text": [
      "start\n",
      "db loop start\n",
      "db loop finish\n",
      "summary finish\n",
      "db loop start\n",
      "db loop finish\n",
      "judgement finish\n",
      "db loop start\n",
      "db loop finish\n",
      "content finish\n"
     ]
    },
    {
     "ename": "TypeError",
     "evalue": "find_indexes() missing 1 required positional argument: 'key_weight'",
     "output_type": "error",
     "traceback": [
      "\u001b[1;31m---------------------------------------------------------------------------\u001b[0m",
      "\u001b[1;31mTypeError\u001b[0m                                 Traceback (most recent call last)",
      "\u001b[1;32m<ipython-input-23-4089efcdb924>\u001b[0m in \u001b[0;36m<module>\u001b[1;34m\u001b[0m\n\u001b[1;32m----> 1\u001b[1;33m \u001b[0mtest_val\u001b[0m \u001b[1;33m=\u001b[0m \u001b[0mtop\u001b[0m\u001b[1;33m(\u001b[0m\u001b[0mfile\u001b[0m\u001b[1;33m[\u001b[0m\u001b[1;36m0\u001b[0m\u001b[1;33m]\u001b[0m\u001b[1;33m,\u001b[0m \u001b[0mfile\u001b[0m\u001b[1;33m[\u001b[0m\u001b[1;36m1\u001b[0m\u001b[1;33m]\u001b[0m\u001b[1;33m,\u001b[0m \u001b[1;34m'손해배상(의)'\u001b[0m\u001b[1;33m,\u001b[0m \u001b[1;34m'cos'\u001b[0m\u001b[1;33m)\u001b[0m\u001b[1;33m\u001b[0m\u001b[1;33m\u001b[0m\u001b[0m\n\u001b[0m",
      "\u001b[1;32mD:\\DProjects\\main\\api\\tfidf\\tfidf.py\u001b[0m in \u001b[0;36mtop10\u001b[1;34m(purpose, cause, case_name, method, Print)\u001b[0m\n\u001b[0;32m    285\u001b[0m     \u001b[0mtotal_descent_simil\u001b[0m \u001b[1;33m=\u001b[0m \u001b[0mnp\u001b[0m\u001b[1;33m.\u001b[0m\u001b[0msort\u001b[0m\u001b[1;33m(\u001b[0m\u001b[0mtotal_simil\u001b[0m\u001b[1;33m)\u001b[0m\u001b[1;33m[\u001b[0m\u001b[1;33m:\u001b[0m\u001b[1;33m]\u001b[0m\u001b[1;33m[\u001b[0m\u001b[1;33m:\u001b[0m\u001b[1;33m:\u001b[0m\u001b[1;33m-\u001b[0m\u001b[1;36m1\u001b[0m\u001b[1;33m]\u001b[0m\u001b[1;33m\u001b[0m\u001b[1;33m\u001b[0m\u001b[0m\n\u001b[0;32m    286\u001b[0m     \u001b[0mtotal_descent_ids\u001b[0m \u001b[1;33m=\u001b[0m \u001b[0mnp\u001b[0m\u001b[1;33m.\u001b[0m\u001b[0marray\u001b[0m\u001b[1;33m(\u001b[0m\u001b[0mids\u001b[0m\u001b[1;33m)\u001b[0m\u001b[1;33m[\u001b[0m\u001b[0mnp\u001b[0m\u001b[1;33m.\u001b[0m\u001b[0margsort\u001b[0m\u001b[1;33m(\u001b[0m\u001b[0mtotal_simil\u001b[0m\u001b[1;33m)\u001b[0m\u001b[1;33m[\u001b[0m\u001b[1;33m:\u001b[0m\u001b[1;33m]\u001b[0m\u001b[1;33m[\u001b[0m\u001b[1;33m:\u001b[0m\u001b[1;33m:\u001b[0m\u001b[1;33m-\u001b[0m\u001b[1;36m1\u001b[0m\u001b[1;33m]\u001b[0m\u001b[1;33m]\u001b[0m\u001b[1;33m\u001b[0m\u001b[1;33m\u001b[0m\u001b[0m\n\u001b[1;32m--> 287\u001b[1;33m \u001b[1;33m\u001b[0m\u001b[0m\n\u001b[0m\u001b[0;32m    288\u001b[0m     \u001b[0mresult\u001b[0m \u001b[1;33m=\u001b[0m \u001b[1;33m{\u001b[0m\u001b[1;33m}\u001b[0m\u001b[1;33m\u001b[0m\u001b[1;33m\u001b[0m\u001b[0m\n\u001b[0;32m    289\u001b[0m     \u001b[0mresult\u001b[0m\u001b[1;33m[\u001b[0m\u001b[1;34m'keywords'\u001b[0m\u001b[1;33m]\u001b[0m \u001b[1;33m=\u001b[0m \u001b[0mdecode\u001b[0m\u001b[1;33m(\u001b[0m\u001b[0mfind_indexes\u001b[0m\u001b[1;33m(\u001b[0m\u001b[1;33m)\u001b[0m\u001b[1;33m)\u001b[0m\u001b[1;33m\u001b[0m\u001b[1;33m\u001b[0m\u001b[0m\n",
      "\u001b[1;31mTypeError\u001b[0m: find_indexes() missing 1 required positional argument: 'key_weight'"
     ]
    }
   ],
   "source": [
    "test_val = top(file[0], file[1], '손해배상(의)', 'cos')"
   ]
  },
  {
   "cell_type": "code",
   "execution_count": 6,
   "metadata": {},
   "outputs": [
    {
     "data": {
      "text/plain": [
       "array([ 84885,  85537, 203976, 192376,  82289, 193332, 210767,  83345,\n",
       "       210335,  85278])"
      ]
     },
     "execution_count": 6,
     "metadata": {},
     "output_type": "execute_result"
    }
   ],
   "source": [
    "test_val"
   ]
  },
  {
   "cell_type": "code",
   "execution_count": 15,
   "metadata": {},
   "outputs": [],
   "source": [
    "def db_cursor():\n",
    "    host = \"ict.cor8kkyfcogd.ap-northeast-2.rds.amazonaws.com\"\n",
    "    port = 3306\n",
    "    username = \"admin\"\n",
    "    database = \"ict\"\n",
    "    password = \"48834883\"\n",
    "\n",
    "    try:\n",
    "        conn = pms.connect(host=host,user=username,password=password,db=database, port=port, use_unicode=True, charset=\"utf8\")\n",
    "        cursor=conn.cursor()\n",
    "    except:\n",
    "        print(\"연결 실패\")\n",
    "        return\n",
    "\n",
    "    return cursor\n"
   ]
  },
  {
   "cell_type": "code",
   "execution_count": 7,
   "metadata": {},
   "outputs": [],
   "source": [
    "ids_arr = tfidf.find_ids('손해배상(의)')"
   ]
  },
  {
   "cell_type": "code",
   "execution_count": 10,
   "metadata": {},
   "outputs": [
    {
     "data": {
      "text/plain": [
       "[64738,\n",
       " 67136,\n",
       " 67320,\n",
       " 67738,\n",
       " 67860,\n",
       " 68157,\n",
       " 68220,\n",
       " 68536,\n",
       " 68738,\n",
       " 68773,\n",
       " 69070,\n",
       " 69206,\n",
       " 69373,\n",
       " 69446,\n",
       " 79828,\n",
       " 80438,\n",
       " 80558,\n",
       " 81309,\n",
       " 81373,\n",
       " 81564,\n",
       " 81658,\n",
       " 81882,\n",
       " 82200,\n",
       " 82289,\n",
       " 82932,\n",
       " 83052,\n",
       " 83250,\n",
       " 83345,\n",
       " 83527,\n",
       " 83701,\n",
       " 83810,\n",
       " 84424,\n",
       " 84557,\n",
       " 84821,\n",
       " 84885,\n",
       " 85076,\n",
       " 85278,\n",
       " 85310,\n",
       " 85537,\n",
       " 85612,\n",
       " 126270,\n",
       " 127012,\n",
       " 133424,\n",
       " 133924,\n",
       " 138265,\n",
       " 139607,\n",
       " 140247,\n",
       " 142105,\n",
       " 142407,\n",
       " 142827,\n",
       " 143120,\n",
       " 143671,\n",
       " 144231,\n",
       " 144515,\n",
       " 145345,\n",
       " 146169,\n",
       " 146664,\n",
       " 146747,\n",
       " 147462,\n",
       " 149172,\n",
       " 149526,\n",
       " 157643,\n",
       " 157935,\n",
       " 159469,\n",
       " 159897,\n",
       " 160699,\n",
       " 162510,\n",
       " 163149,\n",
       " 165559,\n",
       " 166360,\n",
       " 167251,\n",
       " 167290,\n",
       " 168343,\n",
       " 170775,\n",
       " 170876,\n",
       " 171822,\n",
       " 171940,\n",
       " 172046,\n",
       " 172232,\n",
       " 172956,\n",
       " 173934,\n",
       " 174112,\n",
       " 176253,\n",
       " 177426,\n",
       " 177605,\n",
       " 177679,\n",
       " 178071,\n",
       " 179029,\n",
       " 179059,\n",
       " 179791,\n",
       " 179843,\n",
       " 182331,\n",
       " 182380,\n",
       " 183250,\n",
       " 184031,\n",
       " 184373,\n",
       " 185115,\n",
       " 185557,\n",
       " 186636,\n",
       " 187237,\n",
       " 187836,\n",
       " 190657,\n",
       " 190732,\n",
       " 191222,\n",
       " 191335,\n",
       " 191488,\n",
       " 191507,\n",
       " 191721,\n",
       " 192376,\n",
       " 192451,\n",
       " 193332,\n",
       " 193877,\n",
       " 194376,\n",
       " 194408,\n",
       " 194558,\n",
       " 194663,\n",
       " 194698,\n",
       " 195461,\n",
       " 199747,\n",
       " 203976,\n",
       " 204219,\n",
       " 204566,\n",
       " 205791,\n",
       " 206330,\n",
       " 208744,\n",
       " 209160,\n",
       " 210335,\n",
       " 210767]"
      ]
     },
     "execution_count": 10,
     "metadata": {},
     "output_type": "execute_result"
    }
   ],
   "source": [
    "ids_arr"
   ]
  },
  {
   "cell_type": "code",
   "execution_count": 25,
   "metadata": {},
   "outputs": [],
   "source": [
    "c = tfidf.db_cursor()\n",
    "a = tfidf.db_cursor()\n",
    "b = tfidf.db_cursor()"
   ]
  },
  {
   "cell_type": "code",
   "execution_count": 14,
   "metadata": {},
   "outputs": [],
   "source": [
    "import pymysql as pms"
   ]
  },
  {
   "cell_type": "code",
   "execution_count": 29,
   "metadata": {},
   "outputs": [
    {
     "data": {
      "text/plain": [
       "38"
      ]
     },
     "execution_count": 29,
     "metadata": {},
     "output_type": "execute_result"
    }
   ],
   "source": [
    "sql_test = 'select keyindex from Summary where Precedent_ID=64890 order by keyindex asc'\n",
    "c.execute(sql_test)"
   ]
  },
  {
   "cell_type": "code",
   "execution_count": 30,
   "metadata": {},
   "outputs": [
    {
     "name": "stdout",
     "output_type": "stream",
     "text": [
      "((306,), (310,), (313,), (510,), (714,), (776,), (929,), (959,), (1043,), (1047,), (1304,), (1412,), (1457,), (1608,), (1734,), (1780,), (2108,), (2109,), (2272,), (2393,), (2675,), (2696,), (2752,), (3318,), (3746,), (3748,), (3793,), (3808,), (3911,), (3922,), (4258,), (4430,), (4612,), (4618,), (4623,), (4892,), (5105,), (5548,))\n"
     ]
    }
   ],
   "source": [
    "cd = c.fetchall()\n",
    "print(cd)"
   ]
  },
  {
   "cell_type": "code",
   "execution_count": 1,
   "metadata": {},
   "outputs": [],
   "source": [
    "import tfidf"
   ]
  },
  {
   "cell_type": "code",
   "execution_count": 3,
   "metadata": {},
   "outputs": [
    {
     "name": "stderr",
     "output_type": "stream",
     "text": [
      "D:\\DProjects\\main\\venv\\lib\\site-packages\\sklearn\\base.py:329: UserWarning: Trying to unpickle estimator TfidfTransformer from version 0.23.1 when using version 0.23.2. This might lead to breaking code or invalid results. Use at your own risk.\n",
      "  warnings.warn(\n",
      "D:\\DProjects\\main\\venv\\lib\\site-packages\\sklearn\\base.py:329: UserWarning: Trying to unpickle estimator TfidfVectorizer from version 0.23.1 when using version 0.23.2. This might lead to breaking code or invalid results. Use at your own risk.\n",
      "  warnings.warn(\n"
     ]
    }
   ],
   "source": [
    "model = tfidf.load('tfidf_model.pk')"
   ]
  },
  {
   "cell_type": "code",
   "execution_count": 8,
   "metadata": {},
   "outputs": [],
   "source": [
    "arr = tfidf.do(model, ['thisissample'])"
   ]
  },
  {
   "cell_type": "code",
   "execution_count": 17,
   "metadata": {},
   "outputs": [
    {
     "data": {
      "text/plain": [
       "array([0., 0., 0., ..., 0., 0., 0.])"
      ]
     },
     "execution_count": 17,
     "metadata": {},
     "output_type": "execute_result"
    }
   ],
   "source": [
    "arr[0]"
   ]
  },
  {
   "cell_type": "code",
   "execution_count": 18,
   "metadata": {},
   "outputs": [
    {
     "name": "stdout",
     "output_type": "stream",
     "text": [
      "154806\n",
      "<class 'numpy.float64'>\n"
     ]
    }
   ],
   "source": [
    "print(len(arr[0]))\n",
    "print(type(arr[0][0]))"
   ]
  },
  {
   "cell_type": "code",
   "execution_count": null,
   "metadata": {},
   "outputs": [],
   "source": []
  }
 ],
 "metadata": {
  "kernelspec": {
   "display_name": "venv",
   "language": "python",
   "name": "venv"
  },
  "language_info": {
   "codemirror_mode": {
    "name": "ipython",
    "version": 3
   },
   "file_extension": ".py",
   "mimetype": "text/x-python",
   "name": "python",
   "nbconvert_exporter": "python",
   "pygments_lexer": "ipython3",
   "version": "3.8.3"
  }
 },
 "nbformat": 4,
 "nbformat_minor": 4
}
