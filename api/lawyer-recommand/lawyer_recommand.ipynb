{
 "cells": [
  {
   "cell_type": "code",
   "execution_count": 3,
   "metadata": {},
   "outputs": [],
   "source": [
    "import pymysql as pms\n",
    "import logging\n",
    "\n",
    "# DB에 연결\n",
    "host = \"ict.cor8kkyfcogd.ap-northeast-2.rds.amazonaws.com\"\n",
    "port = 3306\n",
    "username = \"admin\"\n",
    "database = \"ict\"\n",
    "password = \"48834883\"\n",
    "\n",
    "try:\n",
    "    conn = pms.connect(host=host,user=username,password=password,db=database, port=port, use_unicode=True, charset=\"utf8\")\n",
    "    cursor=conn.cursor()\n",
    "except:\n",
    "    logging.error(\"연결 실패\")"
   ]
  },
  {
   "cell_type": "code",
   "execution_count": 45,
   "metadata": {},
   "outputs": [],
   "source": [
    "def recommand(category_list, n=5):\n",
    "    lawyers_id = []\n",
    "    \n",
    "    query = 'SELECT ID FROM Lawyer'\n",
    "    cursor.execute(query)\n",
    "    select = [i[0] for i in cursor.fetchall()]\n",
    "\n",
    "    for lawyer_id in select:\n",
    "    # pymysql을 이용해 DB에서 lawyer들의 id를 하나씩 순차적으로 받아온다. \n",
    "    # (하나씩 접근이 불가능 할 경우 id의 리스트를 먼저 저장)\n",
    "        # score 초기화\n",
    "        score = 0\n",
    "        query = \"SELECT Category_ID FROM LawyerField WHERE '{0}' = Lawyer_ID\".format(lawyer_id)\n",
    "        cursor.execute(query)\n",
    "        \n",
    "        #category = list(cursor.fetchall())\n",
    "        category = [t[0] for t in cursor.fetchall()]\n",
    "\n",
    "        for interest in category:\n",
    "            # DB에서 해당 lawyer의 관심분야를 받아서 category_list에 존재할경우 score++\n",
    "            if interest in category_list:\n",
    "                score += 1\n",
    "            # end for loop\n",
    "        # [id, score]로 laywers_id에 append해준다\n",
    "        lawyers_id.append([lawyer_id, score])\n",
    "        # end for loop\n",
    "    \n",
    "    # lawyers_id 를 스코어에 대해 내림차순으로 정렬\n",
    "    lawyers_id = sorted(lawyers_id, key=lambda lawyer: lawyer[1], reverse=True)\n",
    "    \n",
    "    # laywers_id[0: 원하는 개수] 만큼 리턴한다.\n",
    "    return lawyers_id[:n]"
   ]
  },
  {
   "cell_type": "code",
   "execution_count": 46,
   "metadata": {},
   "outputs": [
    {
     "data": {
      "text/plain": [
       "[[11, 3], [8, 2], [9, 2], [7, 1], [1, 0]]"
      ]
     },
     "execution_count": 46,
     "metadata": {},
     "output_type": "execute_result"
    }
   ],
   "source": [
    "recommand([1,2,3], n=5)"
   ]
  }
 ],
 "metadata": {
  "kernelspec": {
   "display_name": "Python 3",
   "language": "python",
   "name": "python3"
  },
  "language_info": {
   "codemirror_mode": {
    "name": "ipython",
    "version": 3
   },
   "file_extension": ".py",
   "mimetype": "text/x-python",
   "name": "python",
   "nbconvert_exporter": "python",
   "pygments_lexer": "ipython3",
   "version": "3.7.6"
  }
 },
 "nbformat": 4,
 "nbformat_minor": 4
}
