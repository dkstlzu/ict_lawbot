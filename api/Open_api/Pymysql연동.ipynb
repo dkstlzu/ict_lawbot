{
 "cells": [
  {
   "cell_type": "code",
   "execution_count": 8,
   "metadata": {},
   "outputs": [
    {
     "name": "stdout",
     "output_type": "stream",
     "text": [
      "Collecting PyMySQL\n",
      "  Using cached PyMySQL-0.10.0-py2.py3-none-any.whl (47 kB)\n",
      "Installing collected packages: PyMySQL\n",
      "Successfully installed PyMySQL-0.10.0\n"
     ]
    }
   ],
   "source": [
    "!pip install PyMySQL"
   ]
  },
  {
   "cell_type": "code",
   "execution_count": 10,
   "metadata": {},
   "outputs": [],
   "source": [
    "import pymysql as pms"
   ]
  },
  {
   "cell_type": "code",
   "execution_count": 25,
   "metadata": {},
   "outputs": [],
   "source": [
    "# 1. DB 연결\n",
    "conn = pms.connect(host=\"192.168.0.15\", port=3306, user=\"ict\", password=\"48834883\", db=\"ict\", charset=\"utf8\")"
   ]
  },
  {
   "cell_type": "code",
   "execution_count": 26,
   "metadata": {},
   "outputs": [],
   "source": [
    "# 2. 커서 생성 (트럭, 연결로프)\n",
    "cur = conn.cursor()\n",
    "sql = \"CREATE TABLE IF NOT EXISTS userTable2(userId INT, userName CHAR(5))\"\n",
    "cur.execute(sql)\n",
    "\n",
    "sql = \"INSERT INTO userTable2 VALUES( 1 , '홍길동')\";\n",
    "cur.execute(sql)\n",
    "sql = \"INSERT INTO userTable2 VALUES( 2 , '이순신')\";\n",
    "cur.execute(sql)\n",
    "\n",
    "cur.close()\n",
    "conn.commit()\n",
    "conn.close() # 6. DB 닫기 (=연결 해제)\n",
    "print('OK~')"
   ]
  },
  {
   "cell_type": "markdown",
   "metadata": {},
   "source": [
    "위에거 참조 사이트\n",
    "https://d33p.tistory.com/73"
   ]
  }
 ],
 "metadata": {
  "kernelspec": {
   "display_name": "Python 3",
   "language": "python",
   "name": "python3"
  },
  "language_info": {
   "codemirror_mode": {
    "name": "ipython",
    "version": 3
   },
   "file_extension": ".py",
   "mimetype": "text/x-python",
   "name": "python",
   "nbconvert_exporter": "python",
   "pygments_lexer": "ipython3",
   "version": "3.7.6"
  }
 },
 "nbformat": 4,
 "nbformat_minor": 4
}
