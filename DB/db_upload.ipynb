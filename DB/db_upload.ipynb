{
 "cells": [
  {
   "cell_type": "code",
   "execution_count": 1,
   "metadata": {
    "colab": {
     "base_uri": "https://localhost:8080/",
     "height": 107
    },
    "colab_type": "code",
    "executionInfo": {
     "elapsed": 4953,
     "status": "ok",
     "timestamp": 1599834986827,
     "user": {
      "displayName": "신석주",
      "photoUrl": "",
      "userId": "15337092000594820365"
     },
     "user_tz": -540
    },
    "id": "8Pmv2pDhmEz9",
    "outputId": "d2cb4c72-fa68-4de6-b7bb-c178b9f816e1"
   },
   "outputs": [
    {
     "name": "stdout",
     "output_type": "stream",
     "text": [
      "Requirement already satisfied: pymysql in d:\\dprojects\\main\\venv\\lib\\site-packages (0.10.0)\n",
      "Requirement already satisfied: requests in d:\\dprojects\\main\\venv\\lib\\site-packages (2.24.0)\n",
      "Requirement already satisfied: urllib3!=1.25.0,!=1.25.1,<1.26,>=1.21.1 in d:\\dprojects\\main\\venv\\lib\\site-packages (from requests) (1.25.10)\n",
      "Requirement already satisfied: chardet<4,>=3.0.2 in d:\\dprojects\\main\\venv\\lib\\site-packages (from requests) (3.0.4)\n",
      "Requirement already satisfied: certifi>=2017.4.17 in d:\\dprojects\\main\\venv\\lib\\site-packages (from requests) (2020.6.20)\n",
      "Requirement already satisfied: idna<3,>=2.5 in d:\\dprojects\\main\\venv\\lib\\site-packages (from requests) (2.10)\n"
     ]
    }
   ],
   "source": [
    "!pip install pymysql\n",
    "!pip install requests"
   ]
  },
  {
   "cell_type": "code",
   "execution_count": 2,
   "metadata": {
    "colab": {},
    "colab_type": "code",
    "executionInfo": {
     "elapsed": 1167,
     "status": "ok",
     "timestamp": 1599835008662,
     "user": {
      "displayName": "신석주",
      "photoUrl": "",
      "userId": "15337092000594820365"
     },
     "user_tz": -540
    },
    "id": "3MpntCXrglv_"
   },
   "outputs": [],
   "source": [
    "import json\n",
    "import pymysql as pms\n",
    "import requests\n",
    "import base64\n",
    "import logging\n",
    "import zipfile as zf\n",
    "import os"
   ]
  },
  {
   "cell_type": "code",
   "execution_count": 13,
   "metadata": {
    "colab": {},
    "colab_type": "code",
    "id": "RiWIjFRlglwG"
   },
   "outputs": [],
   "source": [
    "# DB에 연결\n",
    "host = \"ict.cor8kkyfcogd.ap-northeast-2.rds.amazonaws.com\"\n",
    "port = 3306\n",
    "username = \"admin\"\n",
    "database = \"ict\"\n",
    "password = \"48834883\"\n",
    "\n",
    "try:\n",
    "    conn = pms.connect(host=host,user=username,password=password,db=database, \n",
    "                       port=port, use_unicode=True, charset=\"utf8\")\n",
    "    cursor=conn.cursor()\n",
    "except:\n",
    "    logging.error(\"연결 실패\")\n",
    "    "
   ]
  },
  {
   "cell_type": "code",
   "execution_count": 5,
   "metadata": {
    "colab": {},
    "colab_type": "code",
    "id": "_daQlSZYglwL",
    "outputId": "773ad291-fbb6-4a6c-e8f0-c8ea4119586d"
   },
   "outputs": [
    {
     "name": "stdout",
     "output_type": "stream",
     "text": [
      "124844.json 85795.json\n"
     ]
    }
   ],
   "source": [
    "# 현재 디렉토리 파일 목록 읽어오기\n",
    "path = \"./\"\n",
    "# ipynb 체크포인트랑 이 노트북은 제외\n",
    "# 124844.json부터 85795.json까지\n",
    "filelist = os.listdir(path)[1:-1]\n",
    "print(filelist[0],filelist[-1])"
   ]
  },
  {
   "cell_type": "code",
   "execution_count": 5,
   "metadata": {},
   "outputs": [
    {
     "name": "stdout",
     "output_type": "stream",
     "text": [
      "손해배상(기)등\n",
      "\n"
     ]
    }
   ],
   "source": [
    "with open (filelist[0]) as file:\n",
    "    json_d = json.load(file)\n",
    "    print(json_d['precedent']['casename'])"
   ]
  },
  {
   "cell_type": "code",
   "execution_count": 15,
   "metadata": {
    "colab": {},
    "colab_type": "code",
    "id": "p254L8p_glwQ",
    "outputId": "5c646d12-524d-4a0e-d8f4-2cfe978ba4fb"
   },
   "outputs": [],
   "source": [
    "# 파일명으로부터 json파일 읽어와서 sql문으로 DB에 저장 - Precedent table\n",
    "for i in filelist:\n",
    "    with open(i) as json_file:\n",
    "        json_data = json.load(json_file)\n",
    "        query = \"INSERT INTO Precedent VALUES('{0}', '{1}')\".format(int(json_data['precedent']['id']), json_data['precedent']['casename'])\n",
    "        cursor.execute(query)\n",
    "        conn.commit()"
   ]
  },
  {
   "cell_type": "code",
   "execution_count": 16,
   "metadata": {},
   "outputs": [],
   "source": [
    "# 파일명으로부터 json파일 읽어와서 sql문으로 DB에 저장 - Content table\n",
    "for i in filelist:\n",
    "    with open(i) as json_file:\n",
    "        json_data = json.load(json_file)\n",
    "        idx = -1\n",
    "        case_id = int(json_data['content']['id'])\n",
    "        for weight in json_data['content']['key_weight']:\n",
    "            idx +=1\n",
    "            if weight == 0:\n",
    "                continue\n",
    "                \n",
    "            query = \"INSERT INTO Content (Precedent_ID,keyIndex,keyWeight) VALUES('{0}', '{1}', '{2}')\".format(case_id, idx, weight)\n",
    "            cursor.execute(query)\n",
    "        \n",
    "        conn.commit()"
   ]
  },
  {
   "cell_type": "code",
   "execution_count": 17,
   "metadata": {},
   "outputs": [],
   "source": [
    "# 파일명으로부터 json파일 읽어와서 sql문으로 DB에 저장 - Summary table\n",
    "for i in filelist:\n",
    "    with open(i) as json_file:\n",
    "        json_data = json.load(json_file)\n",
    "        idx = -1\n",
    "        case_id = int(json_data['summary']['id'])\n",
    "        for weight in json_data['summary']['key_weight']:\n",
    "            idx +=1\n",
    "            if weight == 0:\n",
    "                continue\n",
    "                \n",
    "            query = \"INSERT INTO Summary (Precedent_ID,keyIndex,keyWeight) VALUES('{0}', '{1}', '{2}')\".format(case_id, idx, weight)\n",
    "            cursor.execute(query)\n",
    "        \n",
    "        conn.commit()"
   ]
  },
  {
   "cell_type": "code",
   "execution_count": 18,
   "metadata": {},
   "outputs": [],
   "source": [
    "# 파일명으로부터 json파일 읽어와서 sql문으로 DB에 저장 - Judgement table\n",
    "for i in filelist:\n",
    "    with open(i) as json_file:\n",
    "        json_data = json.load(json_file)\n",
    "        idx = -1\n",
    "        case_id = int(json_data['judgement']['id'])\n",
    "        for weight in json_data['judgement']['key_weight']:\n",
    "            idx +=1\n",
    "            if weight == 0:\n",
    "                continue\n",
    "                \n",
    "            query = \"INSERT INTO Judgement (Precedent_ID,keyIndex,keyWeight) VALUES('{0}', '{1}', '{2}')\".format(case_id, idx, weight)\n",
    "            cursor.execute(query)\n",
    "        \n",
    "        conn.commit()"
   ]
  },
  {
   "cell_type": "code",
   "execution_count": 14,
   "metadata": {},
   "outputs": [
    {
     "name": "stdout",
     "output_type": "stream",
     "text": [
      "Suceed\n",
      "Suceed\n"
     ]
    }
   ],
   "source": [
    "# 싹다 지웁니다.\n",
    "query = \"delete from Content where Precedent_ID>=0\"\n",
    "cursor.execute(query)\n",
    "print(\"Suceed\")\n",
    "query = \"DELETE FROM Precedent where ID>=0\"\n",
    "cursor.execute(query)\n",
    "print(\"Suceed\")\n",
    "conn.commit()"
   ]
  }
 ],
 "metadata": {
  "colab": {
   "collapsed_sections": [],
   "name": "db_upload.ipynb",
   "provenance": []
  },
  "kernelspec": {
   "display_name": "venv",
   "language": "python",
   "name": "venv"
  },
  "language_info": {
   "codemirror_mode": {
    "name": "ipython",
    "version": 3
   },
   "file_extension": ".py",
   "mimetype": "text/x-python",
   "name": "python",
   "nbconvert_exporter": "python",
   "pygments_lexer": "ipython3",
   "version": "3.8.3"
  }
 },
 "nbformat": 4,
 "nbformat_minor": 1
}
