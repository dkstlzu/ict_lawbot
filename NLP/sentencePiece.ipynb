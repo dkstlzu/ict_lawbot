{
  "nbformat": 4,
  "nbformat_minor": 0,
  "metadata": {
    "colab": {
      "name": "sentencePiece.ipynb",
      "provenance": [],
      "collapsed_sections": []
    },
    "kernelspec": {
      "name": "python3",
      "display_name": "Python 3"
    }
  },
  "cells": [
    {
      "cell_type": "code",
      "metadata": {
        "id": "zG1eJvR51v-l",
        "colab_type": "code",
        "colab": {
          "base_uri": "https://localhost:8080/",
          "height": 125
        },
        "outputId": "afecb395-4802-4066-9277-c86c9e7bba52"
      },
      "source": [
        "!pip install sentencepiece\n",
        "\n",
        "import os\n",
        "import sentencepiece as spm\n"
      ],
      "execution_count": null,
      "outputs": [
        {
          "output_type": "stream",
          "text": [
            "Collecting sentencepiece\n",
            "\u001b[?25l  Downloading https://files.pythonhosted.org/packages/d4/a4/d0a884c4300004a78cca907a6ff9a5e9fe4f090f5d95ab341c53d28cbc58/sentencepiece-0.1.91-cp36-cp36m-manylinux1_x86_64.whl (1.1MB)\n",
            "\u001b[K     |████████████████████████████████| 1.1MB 2.8MB/s \n",
            "\u001b[?25hInstalling collected packages: sentencepiece\n",
            "Successfully installed sentencepiece-0.1.91\n"
          ],
          "name": "stdout"
        }
      ]
    },
    {
      "cell_type": "code",
      "metadata": {
        "id": "2wPsJqIBUDg1",
        "colab_type": "code",
        "colab": {
          "base_uri": "https://localhost:8080/",
          "height": 125
        },
        "outputId": "8fde50b2-4249-4e29-bf39-e96e9e1dc978"
      },
      "source": [
        "#깃허브에서 다운로드 받은 데이터셋을 구글드라이브에 업로드 하고 드라이브 마운트를 한 뒤\n",
        "#각각 트레인, 테스트 데이터로 만들어 줌\n",
        "from google.colab import drive\n",
        "drive.mount('/content/gdrive')"
      ],
      "execution_count": null,
      "outputs": [
        {
          "output_type": "stream",
          "text": [
            "Go to this URL in a browser: https://accounts.google.com/o/oauth2/auth?client_id=947318989803-6bn6qk8qdgf4n4g3pfee6491hc0brc4i.apps.googleusercontent.com&redirect_uri=urn%3aietf%3awg%3aoauth%3a2.0%3aoob&response_type=code&scope=email%20https%3a%2f%2fwww.googleapis.com%2fauth%2fdocs.test%20https%3a%2f%2fwww.googleapis.com%2fauth%2fdrive%20https%3a%2f%2fwww.googleapis.com%2fauth%2fdrive.photos.readonly%20https%3a%2f%2fwww.googleapis.com%2fauth%2fpeopleapi.readonly\n",
            "\n",
            "Enter your authorization code:\n",
            "··········\n",
            "Mounted at /content/gdrive\n"
          ],
          "name": "stdout"
        }
      ]
    },
    {
      "cell_type": "code",
      "metadata": {
        "id": "BhKrPfT-2jvL",
        "colab_type": "code",
        "colab": {}
      },
      "source": [
        "\n",
        "def train_sp(is_src=True):\n",
        "    template = \"--input={} \\\n",
        "                --pad_id={} \\\n",
        "                --bos_id={} \\\n",
        "                --eos_id={} \\\n",
        "                --unk_id={} \\\n",
        "                --model_prefix={} \\\n",
        "                --vocab_size={} \\\n",
        "                --character_coverage={} \\\n",
        "                --model_type={}\"\n",
        "\n",
        "\n",
        "    config = template.format('input.txt',\n",
        "                            0,\n",
        "                            1,\n",
        "                            2,\n",
        "                            3,\n",
        "                            'output',\n",
        "                            8000,\n",
        "                            1.0,\n",
        "                            'bpe')\n",
        "\n",
        "    print(config)\n",
        "\n",
        "    print(spm)\n",
        "    spm.SentencePieceTrainer.Train(config)\n",
        "    "
      ],
      "execution_count": null,
      "outputs": []
    },
    {
      "cell_type": "code",
      "metadata": {
        "id": "o-Q0Nqw228SJ",
        "colab_type": "code",
        "colab": {
          "base_uri": "https://localhost:8080/",
          "height": 72
        },
        "outputId": "0ae7736d-cdba-4f4a-c1bc-4e3a75db9929"
      },
      "source": [
        "train_sp()"
      ],
      "execution_count": null,
      "outputs": [
        {
          "output_type": "stream",
          "text": [
            "--input=input.txt                 --pad_id=0                 --bos_id=1                 --eos_id=2                 --unk_id=3                 --model_prefix=output                 --vocab_size=8000                 --character_coverage=1.0                 --model_type=bpe\n",
            "<module 'sentencepiece' from '/usr/local/lib/python3.6/dist-packages/sentencepiece.py'>\n"
          ],
          "name": "stdout"
        }
      ]
    },
    {
      "cell_type": "code",
      "metadata": {
        "id": "M5fREpCZ6xEa",
        "colab_type": "code",
        "colab": {
          "base_uri": "https://localhost:8080/",
          "height": 34
        },
        "outputId": "d125fd46-bc25-4f35-a6e8-6e022ffd5773"
      },
      "source": [
        "src_sp = spm.SentencePieceProcessor()\n",
        "src_sp.Load(\"output.model\")\n"
      ],
      "execution_count": null,
      "outputs": [
        {
          "output_type": "execute_result",
          "data": {
            "text/plain": [
              "True"
            ]
          },
          "metadata": {
            "tags": []
          },
          "execution_count": 21
        }
      ]
    },
    {
      "cell_type": "code",
      "metadata": {
        "id": "KuG0288P7WyV",
        "colab_type": "code",
        "colab": {}
      },
      "source": [
        ""
      ],
      "execution_count": null,
      "outputs": []
    },
    {
      "cell_type": "code",
      "metadata": {
        "id": "T7kPvV5D7GwW",
        "colab_type": "code",
        "colab": {
          "base_uri": "https://localhost:8080/",
          "height": 474
        },
        "outputId": "0361595c-c517-476c-f301-c651aa9c7307"
      },
      "source": [
        "src_sp.EncodeAsPieces(\"환송 전후의 각 원심판결 및 환송판결의 이유와 환송 전후의 원심이 적법하게 채택한 증거들에 의하면 다음과 같은 사실을 알 수 있다.\")\n"
      ],
      "execution_count": null,
      "outputs": [
        {
          "output_type": "execute_result",
          "data": {
            "text/plain": [
              "['▁환송',\n",
              " '▁전',\n",
              " '후의',\n",
              " '▁각',\n",
              " '▁원심판결',\n",
              " '▁및',\n",
              " '▁환송',\n",
              " '판결',\n",
              " '의',\n",
              " '▁이유와',\n",
              " '▁환송',\n",
              " '▁전',\n",
              " '후의',\n",
              " '▁원심이',\n",
              " '▁적법하게',\n",
              " '▁채택',\n",
              " '한',\n",
              " '▁증거들에',\n",
              " '▁의하면',\n",
              " '▁다음과',\n",
              " '▁같은',\n",
              " '▁사실을',\n",
              " '▁알',\n",
              " '▁수',\n",
              " '▁있다',\n",
              " '.']"
            ]
          },
          "metadata": {
            "tags": []
          },
          "execution_count": 23
        }
      ]
    }
  ]
}